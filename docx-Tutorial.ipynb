{
 "metadata": {
  "name": "",
  "signature": "sha256:0ab0eb7034e5c3879dcccb7763ba20db5a3408d305562f0f691dc51ba19336e8"
 },
 "nbformat": 3,
 "nbformat_minor": 0,
 "worksheets": [
  {
   "cells": [
    {
     "cell_type": "markdown",
     "metadata": {},
     "source": [
      "### The docx Library for Python###"
     ]
    },
    {
     "cell_type": "markdown",
     "metadata": {},
     "source": [
      "Installation:\n",
      "\n",
      "    pip install python-docx\n",
      "  oder\n",
      "  \n",
      "    pip3 install python-docx"
     ]
    },
    {
     "cell_type": "markdown",
     "metadata": {},
     "source": [
      "#### Creating a new document: ####"
     ]
    },
    {
     "cell_type": "code",
     "collapsed": false,
     "input": [
      "import docx\n",
      "\n",
      "document = docx.Document()\n"
     ],
     "language": "python",
     "metadata": {},
     "outputs": [],
     "prompt_number": 2
    },
    {
     "cell_type": "markdown",
     "metadata": {},
     "source": [
      "### Save the Document! ###"
     ]
    },
    {
     "cell_type": "code",
     "collapsed": false,
     "input": [
      "document.save('demo.docx')"
     ],
     "language": "python",
     "metadata": {},
     "outputs": [],
     "prompt_number": 3
    },
    {
     "cell_type": "markdown",
     "metadata": {},
     "source": [
      "#### Now that we created a document, we want to add some content #####"
     ]
    },
    {
     "cell_type": "code",
     "collapsed": false,
     "input": [
      "# Append a heading and a paragraph\n",
      "document.add_heading(\"Welcome to Python's docx module (0)\", 0)\n",
      "document.add_heading(\"Welcome to Python's docx module (1))\", 1)\n",
      "document.add_heading(\"Welcome to Python's docx module (2)\", 2)\n",
      "document.add_heading(\"Welcome to Python's docx module (3)\", 3)\n",
      "document.add_heading(\"Welcome to Python's docx module (4)\", 4)\n",
      "document.add_heading(\"Welcome to Python's docx module (5)\", 5)\n",
      "document.add_heading(\"Welcome to Python's docx module (6)\", 6)\n",
      "document.add_heading(\"Welcome to Python's docx module (7)\", 7)\n",
      "document.add_heading(\"Welcome to Python's docx module (8)\", 8)\n",
      "document.add_heading(\"Welcome to Python's docx module (9)\", 9)\n",
      "\n",
      "document.add_paragraph('This is a little example on how to use the library.')\n",
      "document.add_paragraph(\n",
      "  \"Lorem ipsum dolor sit amet, consetetur sadipscing elitr, sed diam nonumy eirmod tempor invidunt \"\n",
      "  \"ut labore et dolore magna aliquyam erat, sed diam voluptua. At vero eos et accusam et justo duo dolores et ea \"\n",
      "  \"rebum. Stet clita kasd gubergren, no sea takimata sanctus est Lorem ipsum dolor sit amet. Lorem ipsum \"\n",
      "  \"dolor sit amet, consetetur sadipscing elitr, sed diam nonumy eirmod tempor invidunt ut labore et dolore magna \"\n",
      "  \"aliquyam erat, sed diam voluptua. At vero eos et accusam et justo duo dolores et ea rebum. Stet \"\n",
      "  \"clita kasd gubergren, no sea takimata sanctus est Lorem ipsum dolor sit amet.\")"
     ],
     "language": "python",
     "metadata": {},
     "outputs": []
    },
    {
     "cell_type": "code",
     "collapsed": false,
     "input": [
      "# Add a numbered list\n",
      "points = [ 'first item', \n",
      "           'second item',\n",
      "           'another item']\n",
      "\n",
      "for point in points:\n",
      "    document.add_paragraph(point, style='ListNumber')"
     ],
     "language": "python",
     "metadata": {},
     "outputs": [],
     "prompt_number": 5
    },
    {
     "cell_type": "code",
     "collapsed": false,
     "input": [
      "from docx.enum.table import WD_TABLE_ALIGNMENT\n",
      "\n",
      "table = document.add_table(rows=3, cols=3)\n",
      "#table.alignment = WD_TABLE_ALIGNMENT.CENTER\n",
      "#table.autofit = False\n",
      "\n",
      "for c, cols in enumerate(table.columns):\n",
      "    for r, rows in enumerate(table.rows):\n",
      "        table.cell(r,c).text = 'row %d; column %d' % (r, c)\n",
      "        \n",
      "for c, cols in enumerate(table.columns):\n",
      "    for r, rows in enumerate(table.rows):\n",
      "        print(table.cell(r,c).text)\n"
     ],
     "language": "python",
     "metadata": {},
     "outputs": []
    },
    {
     "cell_type": "code",
     "collapsed": false,
     "input": [
      "# Add a pagebreak\n",
      "document.add_page_break()\n",
      "document.add_heading('Another page', 0)"
     ],
     "language": "python",
     "metadata": {},
     "outputs": []
    },
    {
     "cell_type": "code",
     "collapsed": false,
     "input": [
      "from docx.shared import Cm\n",
      "\n",
      "document.add_picture('python-logo.png', width=Cm(10), height=Cm(10))"
     ],
     "language": "python",
     "metadata": {},
     "outputs": []
    },
    {
     "cell_type": "code",
     "collapsed": false,
     "input": [
      "properties = document.core_properties\n",
      "\n",
      "properties.title = 'Python docx demo'\n",
      "properties.subject = 'A practical example of making docx from Python'\n",
      "properties.creator = 'Mike MacCana'\n",
      "properties.keywords = ['python', 'Office Open XML', 'Word']"
     ],
     "language": "python",
     "metadata": {},
     "outputs": [],
     "prompt_number": 9
    },
    {
     "cell_type": "code",
     "collapsed": false,
     "input": [
      "document.save('demo.docx')"
     ],
     "language": "python",
     "metadata": {},
     "outputs": [],
     "prompt_number": 10
    },
    {
     "cell_type": "markdown",
     "metadata": {},
     "source": [
      "#### Now read the document ####"
     ]
    },
    {
     "cell_type": "code",
     "collapsed": false,
     "input": [
      "from docx import *\n",
      "\n",
      "document = Document('demo.docx')\n",
      "\n",
      "print('--------------------------')\n",
      "for line, p in enumerate(document.paragraphs):\n",
      "    print(\"Paragraph {}:\".format(line))\n",
      "    print(p.text)\n",
      "    print()\n",
      "print('--------------------------')"
     ],
     "language": "python",
     "metadata": {},
     "outputs": []
    },
    {
     "cell_type": "markdown",
     "metadata": {},
     "source": [
      "### Quiz ###\n",
      "\n",
      "Load the File \"demo.docx\" and change the content of the table to random numbers\n",
      "\n",
      "Hints:\n",
      "    - the tables are accessible by document.tables\n",
      "    - random.random()"
     ]
    },
    {
     "cell_type": "code",
     "collapsed": false,
     "input": [
      "### Quiz ###\n",
      "\n",
      "import docx\n",
      "import random\n",
      "\n",
      "document = docx.Document('demo.docx')\n",
      "\n",
      "# Insert Code here.\n",
      "# not here!\n",
      "# ok, here again :-)\n",
      "\n",
      "document.save('demo.docx')"
     ],
     "language": "python",
     "metadata": {},
     "outputs": [],
     "prompt_number": 9
    },
    {
     "cell_type": "markdown",
     "metadata": {},
     "source": [
      "#### Example ####"
     ]
    },
    {
     "cell_type": "code",
     "collapsed": false,
     "input": [
      "import docx\n",
      "\n",
      "document = docx.Document()\n",
      "\n",
      "with open('beispiel.txt', encoding='UTF-8') as ifile:\n",
      "    lines = ifile.read().split('\\n')\n",
      "    \n",
      "table = document.add_table(rows=len(lines), cols=len(lines[0].split()))\n",
      "    \n",
      "for row, line in enumerate(lines):\n",
      "    for column, wort in enumerate(line.split()):\n",
      "        table.cell(row, column).text = wort\n",
      "\n",
      "document.save('beispiel.docx')"
     ],
     "language": "python",
     "metadata": {},
     "outputs": [],
     "prompt_number": 7
    }
   ],
   "metadata": {}
  }
 ]
}