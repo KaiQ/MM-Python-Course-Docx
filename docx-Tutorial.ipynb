{
 "metadata": {
  "name": "",
  "signature": "sha256:02996399f478ab967f0f60a44fd9f2ab18c378122865f3acc8fd215de3459421"
 },
 "nbformat": 3,
 "nbformat_minor": 0,
 "worksheets": [
  {
   "cells": [
    {
     "cell_type": "code",
     "collapsed": false,
     "input": [
      "### The docx Library for Python###"
     ],
     "language": "python",
     "metadata": {},
     "outputs": [],
     "prompt_number": 1
    },
    {
     "cell_type": "markdown",
     "metadata": {},
     "source": [
      "Installation:\n",
      "\n",
      "    pip install python-docx\n",
      "  oder\n",
      "  \n",
      "    pip3 install python-docx"
     ]
    },
    {
     "cell_type": "markdown",
     "metadata": {},
     "source": [
      "#### Creating a new document: ####"
     ]
    },
    {
     "cell_type": "code",
     "collapsed": false,
     "input": [
      "import docx\n",
      "\n",
      "document = docx.Document()\n"
     ],
     "language": "python",
     "metadata": {},
     "outputs": [],
     "prompt_number": 2
    },
    {
     "cell_type": "code",
     "collapsed": false,
     "input": [
      "document.save('demo.docx')"
     ],
     "language": "python",
     "metadata": {},
     "outputs": [],
     "prompt_number": 3
    },
    {
     "cell_type": "markdown",
     "metadata": {},
     "source": [
      "#### Now that we created a document, we want to add some content #####"
     ]
    },
    {
     "cell_type": "code",
     "collapsed": false,
     "input": [
      "# Append a heading and a paragraph\n",
      "document.add_heading(\"Welcome to Python's docx module (0)\", 0)\n",
      "document.add_heading(\"Welcome to Python's docx module (1))\", 1)\n",
      "document.add_heading(\"Welcome to Python's docx module (2)\", 2)\n",
      "document.add_heading(\"Welcome to Python's docx module (3)\", 3)\n",
      "document.add_heading(\"Welcome to Python's docx module (4)\", 4)\n",
      "document.add_heading(\"Welcome to Python's docx module (5)\", 5)\n",
      "document.add_heading(\"Welcome to Python's docx module (6)\", 6)\n",
      "document.add_heading(\"Welcome to Python's docx module (7)\", 7)\n",
      "document.add_heading(\"Welcome to Python's docx module (8)\", 8)\n",
      "document.add_heading(\"Welcome to Python's docx module (9)\", 9)\n",
      "\n",
      "document.add_paragraph('This is a little example on how to use the library.')\n",
      "document.add_paragraph(\n",
      "  \"Lorem ipsum dolor sit amet, consetetur sadipscing elitr, sed diam nonumy eirmod tempor invidunt \"\n",
      "  \"ut labore et dolore magna aliquyam erat, sed diam voluptua. At vero eos et accusam et justo duo dolores et ea \"\n",
      "  \"rebum. Stet clita kasd gubergren, no sea takimata sanctus est Lorem ipsum dolor sit amet. Lorem ipsum \"\n",
      "  \"dolor sit amet, consetetur sadipscing elitr, sed diam nonumy eirmod tempor invidunt ut labore et dolore magna \"\n",
      "  \"aliquyam erat, sed diam voluptua. At vero eos et accusam et justo duo dolores et ea rebum. Stet \"\n",
      "  \"clita kasd gubergren, no sea takimata sanctus est Lorem ipsum dolor sit amet.\")"
     ],
     "language": "python",
     "metadata": {},
     "outputs": [
      {
       "metadata": {},
       "output_type": "pyout",
       "prompt_number": 4,
       "text": [
        "<docx.text.Paragraph at 0x7ff63a059cc0>"
       ]
      }
     ],
     "prompt_number": 4
    },
    {
     "cell_type": "code",
     "collapsed": false,
     "input": [
      "# Add a numbered list\n",
      "points = [ 'first item', \n",
      "           'second item' ]\n",
      "\n",
      "for point in points:\n",
      "    document.add_paragraph(point, style='ListNumber')"
     ],
     "language": "python",
     "metadata": {},
     "outputs": [],
     "prompt_number": 5
    },
    {
     "cell_type": "code",
     "collapsed": false,
     "input": [
      "from docx.enum.table import WD_TABLE_ALIGNMENT\n",
      "\n",
      "table = document.add_table(rows=3, cols=3)\n",
      "#table.alignment = WD_TABLE_ALIGNMENT.CENTER\n",
      "#table.autofit = False\n",
      "\n",
      "for c, cols in enumerate(table.columns):\n",
      "    for r, rows in enumerate(table.rows):\n",
      "        table.cell(r,c).text = 'row %d; column %d' % (r, c)\n",
      "        \n",
      "for c, cols in enumerate(table.columns):\n",
      "    for r, rows in enumerate(table.rows):\n",
      "        print(table.cell(r,c).text)\n"
     ],
     "language": "python",
     "metadata": {},
     "outputs": [
      {
       "output_type": "stream",
       "stream": "stdout",
       "text": [
        "row 0; column 0\n",
        "row 1; column 0\n",
        "row 2; column 0\n",
        "row 0; column 1\n",
        "row 1; column 1\n",
        "row 2; column 1\n",
        "row 0; column 2\n",
        "row 1; column 2\n",
        "row 2; column 2\n"
       ]
      }
     ],
     "prompt_number": 6
    },
    {
     "cell_type": "code",
     "collapsed": false,
     "input": [
      "# Add a pagebreak\n",
      "document.add_page_break()\n",
      "document.add_heading('Another page', 0)"
     ],
     "language": "python",
     "metadata": {},
     "outputs": [
      {
       "metadata": {},
       "output_type": "pyout",
       "prompt_number": 7,
       "text": [
        "<docx.text.Paragraph at 0x7ff63a0599e8>"
       ]
      }
     ],
     "prompt_number": 7
    },
    {
     "cell_type": "code",
     "collapsed": false,
     "input": [
      "from docx.shared import Cm\n",
      "\n",
      "document.add_picture('python-logo.png', width=Cm(10), height=Cm(10))"
     ],
     "language": "python",
     "metadata": {},
     "outputs": [
      {
       "metadata": {},
       "output_type": "pyout",
       "prompt_number": 8,
       "text": [
        "<docx.shape.InlineShape at 0x7ff63a074278>"
       ]
      }
     ],
     "prompt_number": 8
    },
    {
     "cell_type": "code",
     "collapsed": false,
     "input": [
      "properties = document.core_properties\n",
      "\n",
      "properties.title = 'Python docx demo'\n",
      "properties.subject = 'A practical example of making docx from Python'\n",
      "properties.creator = 'Mike MacCana'\n",
      "properties.keywords = ['python', 'Office Open XML', 'Word']"
     ],
     "language": "python",
     "metadata": {},
     "outputs": [],
     "prompt_number": 9
    },
    {
     "cell_type": "code",
     "collapsed": false,
     "input": [
      "document.save('demo.docx')"
     ],
     "language": "python",
     "metadata": {},
     "outputs": [],
     "prompt_number": 10
    },
    {
     "cell_type": "markdown",
     "metadata": {},
     "source": [
      "#### Now read the document ####"
     ]
    },
    {
     "cell_type": "code",
     "collapsed": false,
     "input": [
      "from docx import *\n",
      "\n",
      "document = Document('demo.docx')\n",
      "\n",
      "print(len(document.paragraphs))\n",
      "\n",
      "print('--------------------------')\n",
      "for line, p in enumerate(document.paragraphs):\n",
      "    print(\"Paragraph {}:\".format(line))\n",
      "    print(p.text)\n",
      "    print(len(p.text.split()))\n",
      "    print()\n",
      "print('--------------------------')"
     ],
     "language": "python",
     "metadata": {},
     "outputs": [
      {
       "output_type": "stream",
       "stream": "stdout",
       "text": [
        "17\n",
        "--------------------------\n",
        "Paragraph 0:\n",
        "Welcome to Python's docx module (0)\n",
        "6\n",
        "\n",
        "Paragraph 1:\n",
        "Welcome to Python's docx module (1))\n",
        "6\n",
        "\n",
        "Paragraph 2:\n",
        "Welcome to Python's docx module (2)\n",
        "6\n",
        "\n",
        "Paragraph 3:\n",
        "Welcome to Python's docx module (3)\n",
        "6\n",
        "\n",
        "Paragraph 4:\n",
        "Welcome to Python's docx module (4)\n",
        "6\n",
        "\n",
        "Paragraph 5:\n",
        "Welcome to Python's docx module (5)\n",
        "6\n",
        "\n",
        "Paragraph 6:\n",
        "Welcome to Python's docx module (6)\n",
        "6\n",
        "\n",
        "Paragraph 7:\n",
        "Welcome to Python's docx module (7)\n",
        "6\n",
        "\n",
        "Paragraph 8:\n",
        "Welcome to Python's docx module (8)\n",
        "6\n",
        "\n",
        "Paragraph 9:\n",
        "Welcome to Python's docx module (9)\n",
        "6\n",
        "\n",
        "Paragraph 10:\n",
        "This is a little example on how to use the library.\n",
        "11\n",
        "\n",
        "Paragraph 11:\n",
        "Lorem ipsum dolor sit amet, consetetur sadipscing elitr, sed diam nonumy eirmod tempor invidunt ut labore et dolore magna aliquyam erat, sed diam voluptua. At vero eos et accusam et justo duo dolores et ea rebum. Stet clita kasd gubergren, no sea takimata sanctus est Lorem ipsum dolor sit amet. Lorem ipsum dolor sit amet, consetetur sadipscing elitr, sed diam nonumy eirmod tempor invidunt ut labore et dolore magna aliquyam erat, sed diam voluptua. At vero eos et accusam et justo duo dolores et ea rebum. Stet clita kasd gubergren, no sea takimata sanctus est Lorem ipsum dolor sit amet.\n",
        "100\n",
        "\n",
        "Paragraph 12:\n",
        "first item\n",
        "2\n",
        "\n",
        "Paragraph 13:\n",
        "second item\n",
        "2\n",
        "\n",
        "Paragraph 14:\n",
        "\n",
        "\n",
        "0\n",
        "\n",
        "Paragraph 15:\n",
        "Another page\n",
        "2\n",
        "\n",
        "Paragraph 16:\n",
        "\n",
        "0\n",
        "\n",
        "--------------------------\n"
       ]
      }
     ],
     "prompt_number": 11
    }
   ],
   "metadata": {}
  }
 ]
}